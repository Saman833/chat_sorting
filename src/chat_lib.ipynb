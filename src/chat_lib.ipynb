{
 "cells": [
  {
   "cell_type": "code",
   "execution_count": null,
   "metadata": {},
   "outputs": [],
   "source": []
  },
  {
   "cell_type": "code",
   "execution_count": 2,
   "metadata": {},
   "outputs": [],
   "source": [
    "def hi_to_deniza(name:str):\n",
    "    print(f\"Hi  Deniza!, my name is {name}\")"
   ]
  },
  {
   "cell_type": "code",
   "execution_count": 4,
   "metadata": {},
   "outputs": [
    {
     "name": "stdout",
     "output_type": "stream",
     "text": [
      "Hi  Deniza!, my name is Samantha\n"
     ]
    }
   ],
   "source": [
    "hi_to_deniza(\"Samantha\")"
   ]
  },
  {
   "cell_type": "code",
   "execution_count": 25,
   "metadata": {},
   "outputs": [],
   "source": [
    "class Greetings:\n",
    "    def __init__(self, name_of_person):\n",
    "        self.name_of_person=name_of_person\n",
    "        print(name_of_person)\n",
    "    def hear(self):\n",
    "        print(self.name_of_person+\"I am hearing\")"
   ]
  },
  {
   "cell_type": "code",
   "execution_count": 29,
   "metadata": {},
   "outputs": [
    {
     "name": "stdout",
     "output_type": "stream",
     "text": [
      "Deniza\n",
      "Samantha\n"
     ]
    }
   ],
   "source": [
    "d_greetings=Greetings(\"Deniza\")\n",
    "s_greetings=Greetings(\"Samantha\")"
   ]
  },
  {
   "cell_type": "code",
   "execution_count": 32,
   "metadata": {},
   "outputs": [
    {
     "name": "stdout",
     "output_type": "stream",
     "text": [
      "DenizaI am hearing\n"
     ]
    }
   ],
   "source": [
    "d_greetings.hear()"
   ]
  }
 ],
 "metadata": {
  "kernelspec": {
   "display_name": "Python 3",
   "language": "python",
   "name": "python3"
  },
  "language_info": {
   "codemirror_mode": {
    "name": "ipython",
    "version": 3
   },
   "file_extension": ".py",
   "mimetype": "text/x-python",
   "name": "python",
   "nbconvert_exporter": "python",
   "pygments_lexer": "ipython3",
   "version": "3.11.5"
  }
 },
 "nbformat": 4,
 "nbformat_minor": 2
}
