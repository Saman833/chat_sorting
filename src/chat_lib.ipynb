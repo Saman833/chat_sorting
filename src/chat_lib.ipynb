{
 "cells": [
  {
   "cell_type": "markdown",
   "metadata": {},
   "source": [
    "### run the code below to make graph object and its methods available \n"
   ]
  },
  {
   "cell_type": "code",
   "execution_count": 37,
   "metadata": {},
   "outputs": [],
   "source": [
    "import json\n",
    "import os\n",
    "import lib_info as lib_info\n",
    "import matplotlib.pyplot as plt\n",
    "import networkx as nx\n",
    "def dfs(vertex : str, visited : list, v_neighbors : dict , components : dict, root: str):\n",
    "    visited.append(vertex)\n",
    "    components[root].append(vertex)\n",
    "    for neighbor, weight in v_neighbors[vertex]:\n",
    "        if neighbor not in visited:\n",
    "            dfs(neighbor, visited, v_neighbors,components,root)\n",
    "class Graph: \n",
    "    def __init__(self):\n",
    "        pass \n",
    "        self.vertices=set()\n",
    "        self.v_neighbors={}\n",
    "        self.vertices_data={}\n",
    "        self.components={}\n",
    "        self.visited=[]\n",
    "        self.in_edges={}\n",
    "        self.out_vertices=set()\n",
    "    def add_vertex(self, vertex,v_data):\n",
    "        if vertex not in self.vertices:\n",
    "            self.vertices.add(vertex)\n",
    "            self.v_neighbors[vertex]=[]\n",
    "            self.vertices_data[vertex]=v_data\n",
    "            self.in_edges[vertex]=0\n",
    "    def add_edge(self, vertex1, vertex2, weight=1):\n",
    "        if vertex1 in self.vertices and vertex2 in self.vertices:\n",
    "            self.v_neighbors[vertex2].append((vertex1, weight))\n",
    "            self.in_edges[vertex1]=self.in_edges[vertex1]+1\n",
    "        else : \n",
    "            self.out_vertices.add(vertex1)\n",
    "    def find_components(self):\n",
    "        self.visited=[]\n",
    "        for vertex in self.vertices:\n",
    "            if self.in_edges[vertex]==0:\n",
    "                root=vertex\n",
    "                self.components[vertex]=[]\n",
    "                dfs(vertex, self.visited, self.v_neighbors, self.components, root)\n",
    "    def get_nighbors(self, vertex_id:str , number_of_neighbors:int):\n",
    "        elements=[]\n",
    "        for i in range(number_of_neighbors):\n",
    "            try :\n",
    "                elements.append(self.ver[vertex_id][\"id\"])\n",
    "            except :\n",
    "                pass\n",
    "        neighbors=[]\n",
    "        pass \n",
    "    def count_moments(self):\n",
    "        pass\n",
    "def get_json_graph(file_path):\n",
    "    try : \n",
    "\n",
    "        with open(file_path, 'r' , encoding=\"utf-8\") as file:\n",
    "            return  json.load(file)\n",
    "    except FileNotFoundError:\n",
    "        print(f\"File '{file_path}' not found.\")\n",
    "def create_graph(json_data:dict):\n",
    "    graph=Graph()\n",
    "    for message_id in json_data:\n",
    "        graph.add_vertex(message_id,json_data[message_id])\n",
    "    for message_id, message in json_data.items():\n",
    "        if not message[\"replyTo\"]==None:\n",
    "            replyer_id=str(message[\"replyTo\"])\n",
    "            try : \n",
    "                weight=json_data[message_id][\"userId\"]\n",
    "            except Exception as e : \n",
    "                weight=None\n",
    "            graph.add_edge(message_id, replyer_id,weight=weight)\n",
    "    return graph\n",
    "base_path = lib_info.get_peoject_path()\n",
    "file_path=os.path.join(base_path, \"messages_json_labeled.json\")\n",
    "json_data= get_json_graph(file_path)\n",
    "graph=create_graph(json_data)\n",
    "graph.find_components()"
   ]
  },
  {
   "cell_type": "markdown",
   "metadata": {},
   "source": [
    "### examples below will show you how to use the graph object"
   ]
  },
  {
   "cell_type": "code",
   "execution_count": 38,
   "metadata": {},
   "outputs": [],
   "source": [
    "message_info=graph.vertices_data.get(\"66080\",{}) # to get info about message with id 66080"
   ]
  },
  {
   "cell_type": "code",
   "execution_count": 39,
   "metadata": {},
   "outputs": [],
   "source": [
    "date_time=message_info.get(\"datetime\",\"\") # to get datetime of message with id 66080"
   ]
  },
  {
   "cell_type": "code",
   "execution_count": 40,
   "metadata": {},
   "outputs": [],
   "source": [
    "import datetime\n",
    "# convert date_time to seconds, minutes, hours\n",
    "date_time_second=datetime.datetime.fromisoformat(date_time).strftime('%S')\n",
    "date_time_min=datetime.datetime.fromisoformat(date_time).strftime('%M')\n",
    "date_time_hour=datetime.datetime.fromisoformat(date_time).strftime('%H')"
   ]
  },
  {
   "cell_type": "code",
   "execution_count": 41,
   "metadata": {},
   "outputs": [
    {
     "name": "stdout",
     "output_type": "stream",
     "text": [
      "Time : 10:20:17\n"
     ]
    }
   ],
   "source": [
    "print(f\"Time : {date_time_hour}:{date_time_min}:{date_time_second}\") # print time of message with id 66080  "
   ]
  },
  {
   "cell_type": "code",
   "execution_count": 42,
   "metadata": {},
   "outputs": [
    {
     "name": "stdout",
     "output_type": "stream",
     "text": [
      "Time in seconds : 37217\n"
     ]
    }
   ],
   "source": [
    "time_sec=int(date_time_second) + int(date_time_min)*60 + int(date_time_hour)*60*60 \n",
    "print(f\"Time in seconds : {time_sec}\")"
   ]
  },
  {
   "cell_type": "code",
   "execution_count": null,
   "metadata": {},
   "outputs": [
    {
     "name": "stdout",
     "output_type": "stream",
     "text": [
      "Hi  Deniza!, my name is Samantha\n"
     ]
    }
   ],
   "source": []
  },
  {
   "cell_type": "code",
   "execution_count": null,
   "metadata": {},
   "outputs": [],
   "source": []
  },
  {
   "cell_type": "code",
   "execution_count": null,
   "metadata": {},
   "outputs": [
    {
     "name": "stdout",
     "output_type": "stream",
     "text": [
      "Deniza\n",
      "Samantha\n"
     ]
    }
   ],
   "source": []
  },
  {
   "cell_type": "code",
   "execution_count": null,
   "metadata": {},
   "outputs": [
    {
     "name": "stdout",
     "output_type": "stream",
     "text": [
      "DenizaI am hearing\n"
     ]
    }
   ],
   "source": []
  }
 ],
 "metadata": {
  "kernelspec": {
   "display_name": "Python 3",
   "language": "python",
   "name": "python3"
  },
  "language_info": {
   "codemirror_mode": {
    "name": "ipython",
    "version": 3
   },
   "file_extension": ".py",
   "mimetype": "text/x-python",
   "name": "python",
   "nbconvert_exporter": "python",
   "pygments_lexer": "ipython3",
   "version": "3.11.5"
  }
 },
 "nbformat": 4,
 "nbformat_minor": 2
}
