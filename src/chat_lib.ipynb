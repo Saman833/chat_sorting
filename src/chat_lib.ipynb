{
 "cells": [
  {
   "cell_type": "markdown",
   "metadata": {},
   "source": [
    "### run the code below to make graph object and its methods available \n"
   ]
  },
  {
   "cell_type": "code",
   "execution_count": 37,
   "metadata": {},
   "outputs": [],
   "source": [
    "import json\n",
    "import os\n",
    "import lib_info as lib_info\n",
    "import matplotlib.pyplot as plt\n",
    "import networkx as nx\n",
    "def dfs(vertex : str, visited : list, v_neighbors : dict , components : dict, root: str):\n",
    "    visited.append(vertex)\n",
    "    components[root].append(vertex)\n",
    "    for neighbor, weight in v_neighbors[vertex]:\n",
    "        if neighbor not in visited:\n",
    "            dfs(neighbor, visited, v_neighbors,components,root)\n",
    "class Graph: \n",
    "    def __init__(self):\n",
    "        pass \n",
    "        self.vertices=set()\n",
    "        self.v_neighbors={}\n",
    "        self.vertices_data={}\n",
    "        self.components={}\n",
    "        self.visited=[]\n",
    "        self.in_edges={}\n",
    "        self.out_vertices=set()\n",
    "\n",
    "    def add_vertex(self, vertex,v_data):\n",
    "\n",
    "        if vertex not in self.vertices:\n",
    "            self.vertices.add(vertex)\n",
    "            self.v_neighbors[vertex]=[]\n",
    "            self.vertices_data[vertex]=v_data\n",
    "            self.in_edges[vertex]=0\n",
    "\n",
    "    def add_edge(self, vertex1, vertex2, weight=1):\n",
    "        if vertex1 in self.vertices and vertex2 in self.vertices:\n",
    "            self.v_neighbors[vertex2].append((vertex1, weight))\n",
    "            self.in_edges[vertex1]=self.in_edges[vertex1]+1\n",
    "        else : \n",
    "            self.out_vertices.add(vertex1)\n",
    "\n",
    "    def find_components(self):\n",
    "        self.visited=[]\n",
    "\n",
    "        for vertex in self.vertices:\n",
    "            if self.in_edges[vertex]==0:\n",
    "                root=vertex\n",
    "                self.components[vertex]=[]\n",
    "                dfs(vertex, self.visited, self.v_neighbors, self.components, root)\n",
    "\n",
    "    def get_nighbors(self, vertex_id:str , number_of_neighbors:int):\n",
    "        elements=[]\n",
    "        for i in range(number_of_neighbors):\n",
    "            try :\n",
    "                elements.append(self.ver[vertex_id][\"id\"])\n",
    "            except :\n",
    "                pass\n",
    "        neighbors=[]\n",
    "        pass \n",
    "\n",
    "    def count_moments(self):\n",
    "        pass\n",
    "\n",
    "def get_json_graph(file_path):\n",
    "\n",
    "    try : \n",
    "        with open(file_path, 'r' , encoding=\"utf-8\") as file:\n",
    "            return  json.load(file)\n",
    "    except FileNotFoundError:\n",
    "        print(f\"File '{file_path}' not found.\")\n",
    "\n",
    "def create_graph(json_data:dict):\n",
    "\n",
    "    graph=Graph()\n",
    "\n",
    "    for message_id in json_data:\n",
    "        graph.add_vertex(message_id,json_data[message_id])\n",
    "\n",
    "    for message_id, message in json_data.items():\n",
    "\n",
    "        if not message[\"replyTo\"]==None:\n",
    "            replyer_id=str(message[\"replyTo\"])\n",
    "            try : \n",
    "\n",
    "                weight=json_data[message_id][\"userId\"]\n",
    "\n",
    "            except Exception as e : \n",
    "\n",
    "                weight=None\n",
    "\n",
    "            graph.add_edge(message_id, replyer_id,weight=weight)\n",
    "    return graph\n",
    "\n",
    "base_path = lib_info.get_peoject_path()\n",
    "file_path=os.path.join(base_path, \"messages_json_labeled.json\")\n",
    "json_data= get_json_graph(file_path)\n",
    "graph=create_graph(json_data)\n",
    "graph.find_components()"
   ]
  },
  {
   "cell_type": "markdown",
   "metadata": {},
   "source": [
    "### examples below will show you how to use the graph object"
   ]
  },
  {
   "cell_type": "code",
   "execution_count": 65,
   "metadata": {},
   "outputs": [],
   "source": [
    "message_info=graph.vertices_data.get(\"66080\",{}) # to get info about message with id 66080"
   ]
  },
  {
   "cell_type": "code",
   "execution_count": 39,
   "metadata": {},
   "outputs": [],
   "source": [
    "date_time=message_info.get(\"datetime\",\"\") # to get datetime of message with id 66080"
   ]
  },
  {
   "cell_type": "code",
   "execution_count": 44,
   "metadata": {},
   "outputs": [
    {
     "name": "stdout",
     "output_type": "stream",
     "text": [
      "message text is :  I have 10 clients, requests keep coming in, my own projects — it’s impossible to keep everything in my head, I need to respond within 24 hours.\n"
     ]
    }
   ],
   "source": [
    "# example getting text of message with id  :\n",
    "id=\"66080\"\n",
    "text=graph.vertices_data.get(id,{}).get(\"message\",\"\")\n",
    "print(\"message text is : \" ,text)"
   ]
  },
  {
   "cell_type": "code",
   "execution_count": 40,
   "metadata": {},
   "outputs": [],
   "source": [
    "import datetime\n",
    "# convert date_time to seconds, minutes, hours\n",
    "date_time_second=datetime.datetime.fromisoformat(date_time).strftime('%S')\n",
    "date_time_min=datetime.datetime.fromisoformat(date_time).strftime('%M')\n",
    "date_time_hour=datetime.datetime.fromisoformat(date_time).strftime('%H')"
   ]
  },
  {
   "cell_type": "code",
   "execution_count": 41,
   "metadata": {},
   "outputs": [
    {
     "name": "stdout",
     "output_type": "stream",
     "text": [
      "Time : 10:20:17\n"
     ]
    }
   ],
   "source": [
    "print(f\"Time : {date_time_hour}:{date_time_min}:{date_time_second}\") # print time of message with id 66080  "
   ]
  },
  {
   "cell_type": "code",
   "execution_count": 42,
   "metadata": {},
   "outputs": [
    {
     "name": "stdout",
     "output_type": "stream",
     "text": [
      "Time in seconds : 37217\n"
     ]
    }
   ],
   "source": [
    "time_sec=int(date_time_second) + int(date_time_min)*60 + int(date_time_hour)*60*60 \n",
    "print(f\"Time in seconds : {time_sec}\")"
   ]
  },
  {
   "cell_type": "code",
   "execution_count": 87,
   "metadata": {},
   "outputs": [],
   "source": [
    "def message_time_difference_seconds(message_id1, message_id2) -> int: \n",
    "    \"\"\"\n",
    "    this function takes two message IDs and returns the difference in seconds between their timestamps\n",
    "    \"\"\"\n",
    "\n",
    "    message_info1 = graph.vertices_data.get(str(message_id1), {})  #fetching message data\n",
    "    message_info2 = graph.vertices_data.get(str(message_id2), {})  \n",
    "\n",
    "    date_time1 = message_info1.get(\"datetime\", \"\") #get time\n",
    "    date_time2 = message_info2.get(\"datetime\", \"\")\n",
    "\n",
    "    if not date_time1 or not date_time2: #check if timestamp exists\n",
    "        print(\"Error: Missing timestamp info\")\n",
    "        return -1  \n",
    "\n",
    "    dt1 = datetime.datetime.fromisoformat(date_time1) #convert to datetime object\n",
    "    dt2 = datetime.datetime.fromisoformat(date_time2)\n",
    "\n",
    "    time_difference = abs((dt1 - dt2).total_seconds()) #calculate time difference\n",
    "\n",
    "    return int(time_difference) #and voila\n",
    "\n"
   ]
  },
  {
   "cell_type": "code",
   "execution_count": 92,
   "metadata": {},
   "outputs": [
    {
     "data": {
      "text/plain": [
       "7"
      ]
     },
     "execution_count": 92,
     "metadata": {},
     "output_type": "execute_result"
    }
   ],
   "source": [
    "message_time_difference_seconds(66080, 66081)"
   ]
  },
  {
   "cell_type": "code",
   "execution_count": 98,
   "metadata": {},
   "outputs": [],
   "source": [
    "def split_message_by_symbol(symbol: str, message_id: str) -> list:\n",
    "    \"\"\"\n",
    "    example : \n",
    "    message id : 12345 -> message text : \"hello,world,this,is,a,test.\" \n",
    "    symbol : ','\n",
    "    then the function will return -> [\"hello\", \"world\", \"this\", \"is\", \"a\", \"test.\"]\n",
    "    \"\"\"\n",
    "    message_text = graph.vertices_data.get(str(message_id), {}).get(\"message\", \"Message not found\")    \n",
    "    split_message = message_text.split(symbol)\n",
    "    \n",
    "    return split_message"
   ]
  },
  {
   "cell_type": "code",
   "execution_count": 99,
   "metadata": {},
   "outputs": [],
   "source": [
    "def is_it_question(message_id: str) -> bool:\n",
    "    \"\"\"\n",
    "    this function will get id of a message and return True if the message is a question, False otherwise\n",
    "    \"\"\"\n",
    "    \n",
    "    question_words = [\"what\", \"how\", \"why\", \"where\", \"who\", \"when\", \"is\", \"are\", \"can\", \"could\", \"would\", \"do\", \"did\"]\n",
    "\n",
    "    message_text = graph.vertices_data.get(str(message_id), {}).get(\"message\", \"Message not found\").lower().strip() \n",
    "\n",
    "    if message_text.endswith('?') or any(message_text.startswith(word) for word in question_words): #checking if function ends with a questionmark or starts with a question word\n",
    "        return True #im not sure whether it should be \"and\" instead of \"or\", because then its more exclusive\n",
    "    \n",
    "    return False\n"
   ]
  },
  {
   "cell_type": "code",
   "execution_count": 103,
   "metadata": {},
   "outputs": [
    {
     "data": {
      "text/plain": [
       "True"
      ]
     },
     "execution_count": 103,
     "metadata": {},
     "output_type": "execute_result"
    }
   ],
   "source": [
    "is_it_question(66061)"
   ]
  },
  {
   "cell_type": "code",
   "execution_count": 110,
   "metadata": {},
   "outputs": [],
   "source": [
    "def message_user_id(message_id: str) -> str:\n",
    "    \"\"\"\n",
    "    this function will get id of a message and return the user id who sent the message\n",
    "    \"\"\"\n",
    "    user_id = graph.vertices_data.get(str(message_id), {}).get(\"userId\", \"User not found\")\n",
    "    return user_id\n"
   ]
  },
  {
   "cell_type": "code",
   "execution_count": 112,
   "metadata": {},
   "outputs": [
    {
     "data": {
      "text/plain": [
       "'user44095265'"
      ]
     },
     "execution_count": 112,
     "metadata": {},
     "output_type": "execute_result"
    }
   ],
   "source": [
    "message_user_id(66070)"
   ]
  },
  {
   "cell_type": "code",
   "execution_count": 125,
   "metadata": {},
   "outputs": [],
   "source": [
    "def messages_by_users(*message_ids: list) -> dict:\n",
    "    \"\"\"\n",
    "    input : list of message ids [\"12345\", \"67890\", \"34567\"] \n",
    "    this function will get a list of message ids and return a dictionary where the keys are the user ids and the values are the list of message ids sent by the user\n",
    "    output example : {\"userid12323\": [\"12345\", \"67890\"], \"userid2323\": [\"34567\"]} \n",
    "    \"\"\"\n",
    "    user_messages = {}\n",
    "\n",
    "    for message_id in message_ids: #azzurro! i do da iteration! \n",
    "        user_id = message_user_id(message_id)\n",
    "        user_messages.setdefault(user_id, set()).add(message_id) #mamma mia give a pasta bowl (set) to every user\n",
    "\n",
    "    for user_id in user_messages: #i converta da seta to da lista mamma mia\n",
    "        user_messages[user_id] = list(user_messages[user_id])\n",
    "\n",
    "    return user_messages #bellissimo! "
   ]
  },
  {
   "cell_type": "code",
   "execution_count": 130,
   "metadata": {},
   "outputs": [
    {
     "data": {
      "text/plain": [
       "{'user172556084': [66080],\n",
       " 'user142752811': [66090],\n",
       " 'user44095265': [66100],\n",
       " 'user105512464': [66333]}"
      ]
     },
     "execution_count": 130,
     "metadata": {},
     "output_type": "execute_result"
    }
   ],
   "source": [
    "messages_by_users(66080, 66090, 66100, 66333)"
   ]
  }
 ],
 "metadata": {
  "kernelspec": {
   "display_name": "Python 3",
   "language": "python",
   "name": "python3"
  },
  "language_info": {
   "codemirror_mode": {
    "name": "ipython",
    "version": 3
   },
   "file_extension": ".py",
   "mimetype": "text/x-python",
   "name": "python",
   "nbconvert_exporter": "python",
   "pygments_lexer": "ipython3",
   "version": "3.11.5"
  }
 },
 "nbformat": 4,
 "nbformat_minor": 2
}
